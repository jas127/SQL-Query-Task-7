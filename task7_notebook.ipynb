{
 "cells": [
  {
   "cell_type": "code",
   "execution_count": 2,
   "id": "dd8b8fe9-7620-46f9-8439-133db11d3ee1",
   "metadata": {},
   "outputs": [],
   "source": [
    "import sqlite3\n",
    "import pandas as pd\n",
    "import matplotlib.pyplot as plt"
   ]
  },
  {
   "cell_type": "code",
   "execution_count": 4,
   "id": "18a9815a-1a95-42c9-8af4-9abab47aced1",
   "metadata": {},
   "outputs": [],
   "source": [
    "# Connect to SQLite (creates the DB if it doesn't exist)\n",
    "conn = sqlite3.connect(\"sales_data.db\")\n",
    "cursor = conn.cursor()\n",
    "\n",
    "# Create sales table\n",
    "cursor.execute(\"\"\"\n",
    "CREATE TABLE IF NOT EXISTS sales (\n",
    "    id INTEGER PRIMARY KEY AUTOINCREMENT,\n",
    "    product TEXT,\n",
    "    quantity INTEGER,\n",
    "    price REAL\n",
    ")\n",
    "\"\"\")\n",
    "\n",
    "# Insert sample data\n",
    "sample_data = [\n",
    "    ('Apples', 10, 0.5),\n",
    "    ('Bananas', 5, 0.3),\n",
    "    ('Oranges', 8, 0.6),\n",
    "    ('Apples', 7, 0.5),\n",
    "    ('Bananas', 12, 0.3),\n",
    "    ('Oranges', 3, 0.6),\n",
    "]\n",
    "\n",
    "cursor.executemany(\"INSERT INTO sales (product, quantity, price) VALUES (?, ?, ?)\", sample_data)\n",
    "conn.commit()\n"
   ]
  },
  {
   "cell_type": "code",
   "execution_count": 12,
   "id": "3360ef11-f880-4901-aca9-d9004441bb92",
   "metadata": {},
   "outputs": [
    {
     "name": "stdout",
     "output_type": "stream",
     "text": [
      "Total Quantity Sold:\n",
      "    product  total_qty\n",
      "0   Apples         17\n",
      "1  Bananas         17\n",
      "2  Oranges         11\n"
     ]
    }
   ],
   "source": [
    "query_qty = \"\"\"\n",
    "SELECT \n",
    "    product, \n",
    "    SUM(quantity) AS total_qty\n",
    "FROM sales \n",
    "GROUP BY product\n",
    "\"\"\"\n",
    "\n",
    "df_qty = pd.read_sql_query(query_qty, conn)\n",
    "print(\"Total Quantity Sold:\\n\", df_qty)\n"
   ]
  },
  {
   "cell_type": "code",
   "execution_count": 14,
   "id": "226c9a8a-3a9e-4ed2-b0be-a10033c11fdd",
   "metadata": {},
   "outputs": [
    {
     "name": "stdout",
     "output_type": "stream",
     "text": [
      "\n",
      "Total Revenue:\n",
      "    product  revenue\n",
      "0   Apples      8.5\n",
      "1  Bananas      5.1\n",
      "2  Oranges      6.6\n"
     ]
    }
   ],
   "source": [
    "query_rev = \"\"\"\n",
    "SELECT \n",
    "    product, \n",
    "    SUM(quantity * price) AS revenue\n",
    "FROM sales \n",
    "GROUP BY product\n",
    "\"\"\"\n",
    "\n",
    "df_rev = pd.read_sql_query(query_rev, conn)\n",
    "print(\"\\nTotal Revenue:\\n\", df_rev)"
   ]
  },
  {
   "cell_type": "code",
   "execution_count": 16,
   "id": "e81de6de-6e03-4884-9e6b-89f61e2a739b",
   "metadata": {},
   "outputs": [
    {
     "name": "stdout",
     "output_type": "stream",
     "text": [
      "Sales Summary:\n",
      "\n",
      "   product  total_qty  revenue\n",
      "0   Apples         17      8.5\n",
      "1  Bananas         17      5.1\n",
      "2  Oranges         11      6.6\n"
     ]
    }
   ],
   "source": [
    "print(\"Sales Summary:\\n\")\n",
    "print(df)\n"
   ]
  },
  {
   "cell_type": "code",
   "execution_count": 18,
   "id": "823bfc85-ca55-4207-8db0-006dce7e0447",
   "metadata": {},
   "outputs": [
    {
     "data": {
      "image/png": "[encoded data removed]",
      "text/plain": [
       "<Figure size 640x480 with 1 Axes>"
      ]
     },
     "metadata": {},
     "output_type": "display_data"
    }
   ],
   "source": [
    "df.plot(kind='bar', x='product', y='revenue', legend=False)\n",
    "plt.title(\"Revenue by Product\")\n",
    "plt.xlabel(\"Product\")\n",
    "plt.ylabel(\"Revenue\")\n",
    "plt.tight_layout()\n",
    "plt.show()"
   ]
  },
  {
   "cell_type": "code",
   "execution_count": null,
   "id": "983e06a0-d9c4-444d-857a-a8984d9f87db",
   "metadata": {},
   "outputs": [],
   "source": []
  }
 ],
 "metadata": {
  "kernelspec": {
   "display_name": "Python 3 (ipykernel)",
   "language": "python",
   "name": "python3"
  },
  "language_info": {
   "codemirror_mode": {
    "name": "ipython",
    "version": 3
   },
   "file_extension": ".py",
   "mimetype": "text/x-python",
   "name": "python",
   "nbconvert_exporter": "python",
   "pygments_lexer": "ipython3",
   "version": "3.12.2"
  }
 },
 "nbformat": 4,
 "nbformat_minor": 5
}
